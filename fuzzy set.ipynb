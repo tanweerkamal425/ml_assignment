{
 "cells": [
  {
   "cell_type": "code",
   "execution_count": 14,
   "id": "7b795044",
   "metadata": {},
   "outputs": [],
   "source": [
    "#declaration of fuzzy set\n",
    "a,b,c=[],[],[]\n",
    "fuzzy_sets=[a,b,c]"
   ]
  },
  {
   "cell_type": "code",
   "execution_count": 15,
   "id": "799b5ade",
   "metadata": {},
   "outputs": [
    {
     "name": "stdout",
     "output_type": "stream",
     "text": [
      "Insert for fuzzy set number :  1\n",
      "Membership value of x1\n",
      "0.3\n",
      "Membership value of x2\n",
      "0.4\n",
      "Membership value of x3\n",
      "0.6\n",
      "Insert for fuzzy set number :  2\n",
      "Membership value of x1\n",
      "0.3\n",
      "Membership value of x2\n",
      "0.7\n",
      "Membership value of x3\n",
      "0.9\n",
      "Insert for fuzzy set number :  3\n",
      "Membership value of x1\n",
      "0.1\n",
      "Membership value of x2\n",
      "0.4\n",
      "Membership value of x3\n",
      "0.6\n"
     ]
    }
   ],
   "source": [
    "#user input to fuzzy set\n",
    "for i in range(3):\n",
    "    print(\"Insert for fuzzy set number : \",i+1)\n",
    "    for j in range(3):\n",
    "        print('Membership value of x{}'.format(j+1))\n",
    "        x=float(input())\n",
    "        fuzzy_sets[i].append(('x{}'.format(j+1),x))\n",
    "        "
   ]
  },
  {
   "cell_type": "code",
   "execution_count": 16,
   "id": "9c4d606e",
   "metadata": {},
   "outputs": [
    {
     "data": {
      "text/plain": [
       "[[('x1', 0.3), ('x2', 0.4), ('x3', 0.6)],\n",
       " [('x1', 0.3), ('x2', 0.7), ('x3', 0.9)],\n",
       " [('x1', 0.1), ('x2', 0.4), ('x3', 0.6)]]"
      ]
     },
     "execution_count": 16,
     "metadata": {},
     "output_type": "execute_result"
    }
   ],
   "source": [
    "fuzzy_sets"
   ]
  },
  {
   "cell_type": "code",
   "execution_count": 30,
   "id": "816f04dc",
   "metadata": {},
   "outputs": [],
   "source": [
    "#performing union operation\n",
    "result1=[]\n",
    "for j in range(3):\n",
    "    result1.append(('x{}'.format(j+1),max(fuzzy_sets[0][j][1],fuzzy_sets[1][j][1],fuzzy_sets[2][j][1])))"
   ]
  },
  {
   "cell_type": "code",
   "execution_count": 31,
   "id": "a17ff12a",
   "metadata": {},
   "outputs": [
    {
     "data": {
      "text/plain": [
       "[('x1', 0.3), ('x2', 0.7), ('x3', 0.9)]"
      ]
     },
     "execution_count": 31,
     "metadata": {},
     "output_type": "execute_result"
    }
   ],
   "source": [
    "result1"
   ]
  },
  {
   "cell_type": "code",
   "execution_count": 32,
   "id": "a19697be",
   "metadata": {},
   "outputs": [],
   "source": [
    "#performing intersection operation\n",
    "result2=[]\n",
    "for j in range(3):\n",
    "    result2.append(('x{}'.format(j+1),min(fuzzy_sets[0][j][1],fuzzy_sets[1][j][1],fuzzy_sets[2][j][1])))"
   ]
  },
  {
   "cell_type": "code",
   "execution_count": 33,
   "id": "db38cd88",
   "metadata": {},
   "outputs": [
    {
     "data": {
      "text/plain": [
       "[('x1', 0.1), ('x2', 0.4), ('x3', 0.6)]"
      ]
     },
     "execution_count": 33,
     "metadata": {},
     "output_type": "execute_result"
    }
   ],
   "source": [
    "result2"
   ]
  },
  {
   "cell_type": "code",
   "execution_count": null,
   "id": "0827fc32",
   "metadata": {},
   "outputs": [],
   "source": []
  },
  {
   "cell_type": "code",
   "execution_count": 113,
   "id": "7ed4a4b2",
   "metadata": {},
   "outputs": [],
   "source": [
    "#Implementing Triangular Membership Function\n",
    "#let fuzzy set be\n",
    "a=[(1,0),(4,1),(6,0)]\n",
    "a.sort()\n",
    "#importing inbuilt plotting function\n",
    "import matplotlib.pyplot as plt"
   ]
  },
  {
   "cell_type": "code",
   "execution_count": 114,
   "id": "6c405e68",
   "metadata": {},
   "outputs": [],
   "source": [
    "x=[]\n",
    "u=[]\n",
    "for i in a:\n",
    "    x.append(i[0])\n",
    "    u.append(i[1])"
   ]
  },
  {
   "cell_type": "code",
   "execution_count": 115,
   "id": "b7a4bf12",
   "metadata": {},
   "outputs": [
    {
     "data": {
      "image/png": "[encoded data removed]",
      "text/plain": [
       "<Figure size 432x288 with 1 Axes>"
      ]
     },
     "metadata": {
      "needs_background": "light"
     },
     "output_type": "display_data"
    }
   ],
   "source": [
    "plt.plot(x,u)\n",
    "plt.show()"
   ]
  },
  {
   "cell_type": "code",
   "execution_count": 116,
   "id": "a5e5a28f",
   "metadata": {},
   "outputs": [],
   "source": [
    "def triangular(x,fuzzy):\n",
    "    if fuzzy[1][1]!=1 and fuzzy[0][1]!=0 and fuzzy[2][0]!=0:\n",
    "        return 'not triangular'\n",
    "    if x<fuzzy[0][0]:\n",
    "        return 0\n",
    "    elif x>fuzzy[2][0]:\n",
    "        return 0\n",
    "    elif x>=fuzzy[0][0] and x<=fuzzy[1][0]:\n",
    "        val=(x-fuzzy[0][0])/(fuzzy[1][0]-fuzzy[0][0])\n",
    "        return val\n",
    "    elif x>=fuzzy[1][0] and x<=fuzzy[2][0]:\n",
    "        val=(fuzzy[2][0]-x)/(fuzzy[2][0]-fuzzy[1][0])\n",
    "        return val"
   ]
  },
  {
   "cell_type": "code",
   "execution_count": 121,
   "id": "8d14f310",
   "metadata": {},
   "outputs": [
    {
     "name": "stdout",
     "output_type": "stream",
     "text": [
      "Enter number: 3\n"
     ]
    }
   ],
   "source": [
    "i=float(input('Enter number: '))\n",
    "val=triangular(i,a)"
   ]
  },
  {
   "cell_type": "code",
   "execution_count": 122,
   "id": "ce81d2c9",
   "metadata": {},
   "outputs": [
    {
     "name": "stdout",
     "output_type": "stream",
     "text": [
      "Resultant value is:  0.6666666666666666\n"
     ]
    }
   ],
   "source": [
    "print('Resultant value is: ',val)"
   ]
  },
  {
   "cell_type": "code",
   "execution_count": 123,
   "id": "bfdf5235",
   "metadata": {},
   "outputs": [
    {
     "data": {
      "image/png": "[encoded data removed]",
      "text/plain": [
       "<Figure size 432x288 with 1 Axes>"
      ]
     },
     "metadata": {
      "needs_background": "light"
     },
     "output_type": "display_data"
    }
   ],
   "source": [
    "plt.plot(x,u,color='black')\n",
    "plt.scatter(i,val,color='red')\n",
    "plt.show()"
   ]
  },
  {
   "cell_type": "code",
   "execution_count": null,
   "id": "fe4d0a85",
   "metadata": {},
   "outputs": [],
   "source": []
  },
  {
   "cell_type": "code",
   "execution_count": 124,
   "id": "2c02b638",
   "metadata": {},
   "outputs": [],
   "source": [
    "#Implementing Trapezoidal Membership Function\n",
    "#let fuzzy set be\n",
    "a=[(1,0),(4,1),(6,1),(7,0)]\n",
    "a.sort()"
   ]
  },
  {
   "cell_type": "code",
   "execution_count": 125,
   "id": "cb3db062",
   "metadata": {},
   "outputs": [],
   "source": [
    "x=[]\n",
    "u=[]\n",
    "for i in a:\n",
    "    x.append(i[0])\n",
    "    u.append(i[1])"
   ]
  },
  {
   "cell_type": "code",
   "execution_count": 126,
   "id": "1b5025fd",
   "metadata": {},
   "outputs": [
    {
     "data": {
      "image/png": "[encoded data removed]",
      "text/plain": [
       "<Figure size 432x288 with 1 Axes>"
      ]
     },
     "metadata": {
      "needs_background": "light"
     },
     "output_type": "display_data"
    }
   ],
   "source": [
    "plt.plot(x,u)\n",
    "plt.show()"
   ]
  },
  {
   "cell_type": "code",
   "execution_count": 127,
   "id": "6d10289f",
   "metadata": {},
   "outputs": [],
   "source": [
    "def trapezoidal(x,fuzzy):\n",
    "    if fuzzy[1][1]!=1 and fuzzy[0][1]!=0 and fuzzy[2][0]!=1 and fuzzy[3][0]!=0:\n",
    "        return 'not trapezoidal'\n",
    "    if x<fuzzy[0][0]:\n",
    "        return 0\n",
    "    elif x>fuzzy[3][0]:\n",
    "        return 0\n",
    "    elif x>=fuzzy[0][0] and x<=fuzzy[1][0]:\n",
    "        val=(x-fuzzy[0][0])/(fuzzy[1][0]-fuzzy[0][0])\n",
    "        return val\n",
    "    elif x>=fuzzy[2][0] and x<=fuzzy[3][0]:\n",
    "        val=(fuzzy[3][0]-x)/(fuzzy[3][0]-fuzzy[2][0])\n",
    "        return val\n",
    "    elif x>=fuzzy[1][0] and x<=fuzzy[2][0]:\n",
    "        return 1"
   ]
  },
  {
   "cell_type": "code",
   "execution_count": 130,
   "id": "ee4b95fb",
   "metadata": {},
   "outputs": [
    {
     "name": "stdout",
     "output_type": "stream",
     "text": [
      "Enter number: 6.4\n"
     ]
    }
   ],
   "source": [
    "i=float(input('Enter number: '))\n",
    "val=trapezoidal(i,a)"
   ]
  },
  {
   "cell_type": "code",
   "execution_count": 131,
   "id": "cff86e39",
   "metadata": {},
   "outputs": [
    {
     "name": "stdout",
     "output_type": "stream",
     "text": [
      "Resultant value is:  0.5999999999999996\n"
     ]
    }
   ],
   "source": [
    "print('Resultant value is: ',val)"
   ]
  },
  {
   "cell_type": "code",
   "execution_count": 132,
   "id": "5eb22e87",
   "metadata": {},
   "outputs": [
    {
     "data": {
      "image/png": "[encoded data removed]",
      "text/plain": [
       "<Figure size 432x288 with 1 Axes>"
      ]
     },
     "metadata": {
      "needs_background": "light"
     },
     "output_type": "display_data"
    }
   ],
   "source": [
    "plt.plot(x,u,color='black')\n",
    "plt.scatter(i,val,color='red')\n",
    "plt.show()"
   ]
  },
  {
   "cell_type": "code",
   "execution_count": 147,
   "id": "e48a4320",
   "metadata": {},
   "outputs": [
    {
     "name": "stdout",
     "output_type": "stream",
     "text": [
      "Center Value: 5\n",
      "Width Value: 2\n",
      "Fuzzification Value: 2\n"
     ]
    }
   ],
   "source": [
    "#Gaussian\n",
    "c=int(input('Center Value: '))\n",
    "s=int(input('Width Value: '))\n",
    "m=int(input('Fuzzification Value: '))"
   ]
  },
  {
   "cell_type": "code",
   "execution_count": 148,
   "id": "481dc141",
   "metadata": {},
   "outputs": [],
   "source": [
    "import math"
   ]
  },
  {
   "cell_type": "code",
   "execution_count": 150,
   "id": "25f59f0e",
   "metadata": {},
   "outputs": [],
   "source": [
    "fuzzy_set=[]\n",
    "for i in range(c*2+1):\n",
    "    m_value=math.exp(-(1/2)*(abs((i-c)/s))**m)\n",
    "    fuzzy_set.append((i,m_value))"
   ]
  },
  {
   "cell_type": "code",
   "execution_count": 153,
   "id": "5224ceb1",
   "metadata": {},
   "outputs": [],
   "source": [
    "x=[]\n",
    "u=[]\n",
    "for i in fuzzy_set:\n",
    "    x.append(i[0])\n",
    "    u.append(i[1])"
   ]
  },
  {
   "cell_type": "code",
   "execution_count": 154,
   "id": "93267270",
   "metadata": {},
   "outputs": [
    {
     "data": {
      "image/png": "[encoded data removed]",
      "text/plain": [
       "<Figure size 432x288 with 1 Axes>"
      ]
     },
     "metadata": {
      "needs_background": "light"
     },
     "output_type": "display_data"
    }
   ],
   "source": [
    "plt.plot(x,u,color='black')\n",
    "plt.show()"
   ]
  },
  {
   "cell_type": "code",
   "execution_count": null,
   "id": "830fb93f",
   "metadata": {},
   "outputs": [],
   "source": []
  },
  {
   "cell_type": "code",
   "execution_count": 155,
   "id": "4c57c1c7",
   "metadata": {},
   "outputs": [],
   "source": [
    "def gaussian(x,c,s,m):\n",
    "    m_value=math.exp(-(1/2)*(abs((x-c)/s))**m)\n",
    "    return m_value"
   ]
  },
  {
   "cell_type": "code",
   "execution_count": 156,
   "id": "f13f02e0",
   "metadata": {},
   "outputs": [
    {
     "name": "stdout",
     "output_type": "stream",
     "text": [
      "Enter number: 3.4\n"
     ]
    }
   ],
   "source": [
    "i=float(input('Enter number: '))\n",
    "val=gaussian(i,c,s,m)"
   ]
  },
  {
   "cell_type": "code",
   "execution_count": 157,
   "id": "cf37b8ad",
   "metadata": {},
   "outputs": [
    {
     "name": "stdout",
     "output_type": "stream",
     "text": [
      "Resultant value is:  0.7261490370736908\n"
     ]
    }
   ],
   "source": [
    "print('Resultant value is: ',val)"
   ]
  },
  {
   "cell_type": "code",
   "execution_count": 158,
   "id": "bba1da21",
   "metadata": {},
   "outputs": [
    {
     "data": {
      "image/png": "[encoded data removed]",
      "text/plain": [
       "<Figure size 432x288 with 1 Axes>"
      ]
     },
     "metadata": {
      "needs_background": "light"
     },
     "output_type": "display_data"
    }
   ],
   "source": [
    "plt.plot(x,u,color='black')\n",
    "plt.scatter(i,val,color='red')\n",
    "plt.show()"
   ]
  },
  {
   "cell_type": "code",
   "execution_count": 134,
   "id": "4b027544",
   "metadata": {},
   "outputs": [
    {
     "name": "stdout",
     "output_type": "stream",
     "text": [
      "[('x1', 0.3), ('x2', 0.4), ('x3', 0.6)] [('x1', 0.3), ('x2', 0.7), ('x3', 0.9)]\n"
     ]
    }
   ],
   "source": [
    "a=fuzzy_sets[0]\n",
    "b=fuzzy_sets[1]\n",
    "print(a,b)"
   ]
  },
  {
   "cell_type": "code",
   "execution_count": 138,
   "id": "f6abade5",
   "metadata": {},
   "outputs": [],
   "source": [
    "def fuzzy_operation(a,b):\n",
    "    result=[]\n",
    "    for j in range(3):\n",
    "        result.append(('x{}'.format(j+1),(a[j][1]*b[j][1])/(a[j][1]+b[j][1])))\n",
    "    return result"
   ]
  },
  {
   "cell_type": "code",
   "execution_count": 139,
   "id": "c5cf83d3",
   "metadata": {},
   "outputs": [
    {
     "name": "stdout",
     "output_type": "stream",
     "text": [
      "[('x1', 0.15), ('x2', 0.2545454545454545), ('x3', 0.36000000000000004)]\n"
     ]
    }
   ],
   "source": [
    "print(fuzzy_operation(a,b))"
   ]
  },
  {
   "cell_type": "code",
   "execution_count": null,
   "id": "95457012",
   "metadata": {},
   "outputs": [],
   "source": []
  },
  {
   "cell_type": "code",
   "execution_count": null,
   "id": "ffe58013",
   "metadata": {},
   "outputs": [],
   "source": []
  },
  {
   "cell_type": "code",
   "execution_count": null,
   "id": "17ae2c9f",
   "metadata": {},
   "outputs": [],
   "source": []
  },
  {
   "cell_type": "code",
   "execution_count": null,
   "id": "731468ea",
   "metadata": {},
   "outputs": [],
   "source": []
  },
  {
   "cell_type": "code",
   "execution_count": null,
   "id": "40594e97",
   "metadata": {},
   "outputs": [],
   "source": []
  },
  {
   "cell_type": "code",
   "execution_count": null,
   "id": "b5c97123",
   "metadata": {},
   "outputs": [],
   "source": []
  },
  {
   "cell_type": "code",
   "execution_count": null,
   "id": "ad3c72bf",
   "metadata": {},
   "outputs": [],
   "source": []
  },
  {
   "cell_type": "code",
   "execution_count": null,
   "id": "ca45b215",
   "metadata": {},
   "outputs": [],
   "source": []
  },
  {
   "cell_type": "code",
   "execution_count": null,
   "id": "84972d9a",
   "metadata": {},
   "outputs": [],
   "source": [
    "9"
   ]
  },
  {
   "cell_type": "code",
   "execution_count": 400,
   "id": "6d1028bc",
   "metadata": {},
   "outputs": [],
   "source": [
    "import pandas as pd\n",
    "df=pd.DataFrame()"
   ]
  },
  {
   "cell_type": "code",
   "execution_count": 401,
   "id": "af07b483",
   "metadata": {},
   "outputs": [],
   "source": [
    "global size\n",
    "size=5\n",
    "def iteration(x,df):\n",
    "    def fitness_fun(x):\n",
    "        fitness_func=2*x**2+3*x+1\n",
    "        return fitness_func\n",
    "    def decimal_to_binary(x):\n",
    "        ch=bin(x).replace('0b','')\n",
    "        if len(ch)<size:\n",
    "            ch='0'+ch\n",
    "        return ch\n",
    "\n",
    "    #encoding\n",
    "    string=[]\n",
    "    initial_population=[]\n",
    "    fitness=[]\n",
    "    for i in range(len(x)):\n",
    "        string.append('x{}'.format(i+1))\n",
    "        initial_population.append(decimal_to_binary(x[i]))\n",
    "        fitness.append(fitness_fun(x[i]))\n",
    "    total_val_fitness=sum(fitness)\n",
    "    avg_val_fitness=total_val_fitness/len(x)\n",
    "    def probability_ExpectedCount(x,y):\n",
    "        return x/y\n",
    "    probability=[]\n",
    "    expected_count=[]\n",
    "    for i in fitness:\n",
    "        probability.append(probability_ExpectedCount(i,total_val_fitness))\n",
    "        expected_count.append(probability_ExpectedCount(i,avg_val_fitness))\n",
    "    df['String']=string\n",
    "    df['Initial_Population']=initial_population\n",
    "    df['x']=x\n",
    "    df['Fitness']=fitness\n",
    "    df['Probability']=probability\n",
    "    df['Expected_Count']=expected_count\n",
    "    df['Actual_Count']=round(df['Expected_Count'])\n",
    "    return df\n"
   ]
  },
  {
   "cell_type": "code",
   "execution_count": 402,
   "id": "49340653",
   "metadata": {},
   "outputs": [],
   "source": [
    "#given\n",
    "x=[9,11,13,15]\n",
    "df=iteration(x,df)\n"
   ]
  },
  {
   "cell_type": "code",
   "execution_count": 403,
   "id": "64820ab3",
   "metadata": {},
   "outputs": [
    {
     "data": {
      "text/html": [
       "<div>\n",
       "<style scoped>\n",
       "    .dataframe tbody tr th:only-of-type {\n",
       "        vertical-align: middle;\n",
       "    }\n",
       "\n",
       "    .dataframe tbody tr th {\n",
       "        vertical-align: top;\n",
       "    }\n",
       "\n",
       "    .dataframe thead th {\n",
       "        text-align: right;\n",
       "    }\n",
       "</style>\n",
       "<table border=\"1\" class=\"dataframe\">\n",
       "  <thead>\n",
       "    <tr style=\"text-align: right;\">\n",
       "      <th></th>\n",
       "      <th>String</th>\n",
       "      <th>Initial_Population</th>\n",
       "      <th>x</th>\n",
       "      <th>Fitness</th>\n",
       "      <th>Probability</th>\n",
       "      <th>Expected_Count</th>\n",
       "      <th>Actual_Count</th>\n",
       "    </tr>\n",
       "  </thead>\n",
       "  <tbody>\n",
       "    <tr>\n",
       "      <th>0</th>\n",
       "      <td>x1</td>\n",
       "      <td>01001</td>\n",
       "      <td>9</td>\n",
       "      <td>190</td>\n",
       "      <td>0.141791</td>\n",
       "      <td>0.567164</td>\n",
       "      <td>1.0</td>\n",
       "    </tr>\n",
       "    <tr>\n",
       "      <th>1</th>\n",
       "      <td>x2</td>\n",
       "      <td>01011</td>\n",
       "      <td>11</td>\n",
       "      <td>276</td>\n",
       "      <td>0.205970</td>\n",
       "      <td>0.823881</td>\n",
       "      <td>1.0</td>\n",
       "    </tr>\n",
       "    <tr>\n",
       "      <th>2</th>\n",
       "      <td>x3</td>\n",
       "      <td>01101</td>\n",
       "      <td>13</td>\n",
       "      <td>378</td>\n",
       "      <td>0.282090</td>\n",
       "      <td>1.128358</td>\n",
       "      <td>1.0</td>\n",
       "    </tr>\n",
       "    <tr>\n",
       "      <th>3</th>\n",
       "      <td>x4</td>\n",
       "      <td>01111</td>\n",
       "      <td>15</td>\n",
       "      <td>496</td>\n",
       "      <td>0.370149</td>\n",
       "      <td>1.480597</td>\n",
       "      <td>1.0</td>\n",
       "    </tr>\n",
       "  </tbody>\n",
       "</table>\n",
       "</div>"
      ],
      "text/plain": [
       "  String Initial_Population   x  Fitness  Probability  Expected_Count  \\\n",
       "0     x1              01001   9      190     0.141791        0.567164   \n",
       "1     x2              01011  11      276     0.205970        0.823881   \n",
       "2     x3              01101  13      378     0.282090        1.128358   \n",
       "3     x4              01111  15      496     0.370149        1.480597   \n",
       "\n",
       "   Actual_Count  \n",
       "0           1.0  \n",
       "1           1.0  \n",
       "2           1.0  \n",
       "3           1.0  "
      ]
     },
     "execution_count": 403,
     "metadata": {},
     "output_type": "execute_result"
    }
   ],
   "source": [
    "df"
   ]
  },
  {
   "cell_type": "code",
   "execution_count": 513,
   "id": "7a2c92f4",
   "metadata": {},
   "outputs": [],
   "source": [
    "def binary_to_decimal(x):\n",
    "    return int(x,2)"
   ]
  },
  {
   "cell_type": "code",
   "execution_count": 514,
   "id": "427e8909",
   "metadata": {},
   "outputs": [],
   "source": [
    "import random"
   ]
  },
  {
   "cell_type": "code",
   "execution_count": 515,
   "id": "801e9361",
   "metadata": {},
   "outputs": [],
   "source": [
    "#Uniform Crossover\n",
    "#x1,x4    x2,x3\n",
    "def crossover(x,y):\n",
    "    x=list(x)\n",
    "    y=list(y)\n",
    "    for i in range(len(x)):\n",
    "        #tossing coin\n",
    "        if i%2==0:\n",
    "            pass\n",
    "        else:\n",
    "            t=x[i]\n",
    "            x[i]=y[i]\n",
    "            y[i]=t\n",
    "    x=''.join(x)\n",
    "    y=''.join(y)\n",
    "    return (x,y)\n",
    "offsprings=[]\n",
    "offsprings.extend(crossover(df['Initial_Population'][2],df['Initial_Population'][3]))\n",
    "offsprings.extend(crossover(df['Initial_Population'][1],df['Initial_Population'][0]))"
   ]
  },
  {
   "cell_type": "code",
   "execution_count": 516,
   "id": "7b908e88",
   "metadata": {},
   "outputs": [
    {
     "data": {
      "text/plain": [
       "['01111', '01101', '01001', '01011']"
      ]
     },
     "execution_count": 516,
     "metadata": {},
     "output_type": "execute_result"
    }
   ],
   "source": [
    "offsprings"
   ]
  },
  {
   "cell_type": "code",
   "execution_count": 517,
   "id": "e0f6c234",
   "metadata": {},
   "outputs": [],
   "source": [
    "off_x=[]\n",
    "for i in offsprings:\n",
    "    off_x.append(binary_to_decimal(i))"
   ]
  },
  {
   "cell_type": "code",
   "execution_count": 518,
   "id": "ceb64de0",
   "metadata": {},
   "outputs": [
    {
     "data": {
      "text/plain": [
       "[15, 13, 9, 11]"
      ]
     },
     "execution_count": 518,
     "metadata": {},
     "output_type": "execute_result"
    }
   ],
   "source": [
    "off_x"
   ]
  },
  {
   "cell_type": "code",
   "execution_count": 519,
   "id": "bf36a896",
   "metadata": {},
   "outputs": [],
   "source": [
    "df1=pd.DataFrame()"
   ]
  },
  {
   "cell_type": "code",
   "execution_count": 520,
   "id": "5a04eef4",
   "metadata": {
    "scrolled": true
   },
   "outputs": [],
   "source": [
    "df1=iteration(off_x,df1)"
   ]
  },
  {
   "cell_type": "code",
   "execution_count": 521,
   "id": "ba50014b",
   "metadata": {},
   "outputs": [
    {
     "data": {
      "text/html": [
       "<div>\n",
       "<style scoped>\n",
       "    .dataframe tbody tr th:only-of-type {\n",
       "        vertical-align: middle;\n",
       "    }\n",
       "\n",
       "    .dataframe tbody tr th {\n",
       "        vertical-align: top;\n",
       "    }\n",
       "\n",
       "    .dataframe thead th {\n",
       "        text-align: right;\n",
       "    }\n",
       "</style>\n",
       "<table border=\"1\" class=\"dataframe\">\n",
       "  <thead>\n",
       "    <tr style=\"text-align: right;\">\n",
       "      <th></th>\n",
       "      <th>String</th>\n",
       "      <th>Initial_Population</th>\n",
       "      <th>x</th>\n",
       "      <th>Fitness</th>\n",
       "      <th>Probability</th>\n",
       "      <th>Expected_Count</th>\n",
       "      <th>Actual_Count</th>\n",
       "    </tr>\n",
       "  </thead>\n",
       "  <tbody>\n",
       "    <tr>\n",
       "      <th>0</th>\n",
       "      <td>x1</td>\n",
       "      <td>01111</td>\n",
       "      <td>15</td>\n",
       "      <td>496</td>\n",
       "      <td>0.370149</td>\n",
       "      <td>1.480597</td>\n",
       "      <td>1.0</td>\n",
       "    </tr>\n",
       "    <tr>\n",
       "      <th>1</th>\n",
       "      <td>x2</td>\n",
       "      <td>01101</td>\n",
       "      <td>13</td>\n",
       "      <td>378</td>\n",
       "      <td>0.282090</td>\n",
       "      <td>1.128358</td>\n",
       "      <td>1.0</td>\n",
       "    </tr>\n",
       "    <tr>\n",
       "      <th>2</th>\n",
       "      <td>x3</td>\n",
       "      <td>01001</td>\n",
       "      <td>9</td>\n",
       "      <td>190</td>\n",
       "      <td>0.141791</td>\n",
       "      <td>0.567164</td>\n",
       "      <td>1.0</td>\n",
       "    </tr>\n",
       "    <tr>\n",
       "      <th>3</th>\n",
       "      <td>x4</td>\n",
       "      <td>01011</td>\n",
       "      <td>11</td>\n",
       "      <td>276</td>\n",
       "      <td>0.205970</td>\n",
       "      <td>0.823881</td>\n",
       "      <td>1.0</td>\n",
       "    </tr>\n",
       "  </tbody>\n",
       "</table>\n",
       "</div>"
      ],
      "text/plain": [
       "  String Initial_Population   x  Fitness  Probability  Expected_Count  \\\n",
       "0     x1              01111  15      496     0.370149        1.480597   \n",
       "1     x2              01101  13      378     0.282090        1.128358   \n",
       "2     x3              01001   9      190     0.141791        0.567164   \n",
       "3     x4              01011  11      276     0.205970        0.823881   \n",
       "\n",
       "   Actual_Count  \n",
       "0           1.0  \n",
       "1           1.0  \n",
       "2           1.0  \n",
       "3           1.0  "
      ]
     },
     "execution_count": 521,
     "metadata": {},
     "output_type": "execute_result"
    }
   ],
   "source": [
    "df1"
   ]
  },
  {
   "cell_type": "code",
   "execution_count": 522,
   "id": "eab9f7e8",
   "metadata": {},
   "outputs": [],
   "source": [
    "offsprings2=[]\n",
    "offsprings2.extend(crossover(df1['Initial_Population'][2],df1['Initial_Population'][3]))\n",
    "offsprings2.extend(crossover(df1['Initial_Population'][1],df1['Initial_Population'][0]))\n",
    "off_x2=[]\n",
    "for i in offsprings2:\n",
    "    off_x2.append(binary_to_decimal(i))"
   ]
  },
  {
   "cell_type": "code",
   "execution_count": 523,
   "id": "399da02c",
   "metadata": {},
   "outputs": [
    {
     "data": {
      "text/html": [
       "<div>\n",
       "<style scoped>\n",
       "    .dataframe tbody tr th:only-of-type {\n",
       "        vertical-align: middle;\n",
       "    }\n",
       "\n",
       "    .dataframe tbody tr th {\n",
       "        vertical-align: top;\n",
       "    }\n",
       "\n",
       "    .dataframe thead th {\n",
       "        text-align: right;\n",
       "    }\n",
       "</style>\n",
       "<table border=\"1\" class=\"dataframe\">\n",
       "  <thead>\n",
       "    <tr style=\"text-align: right;\">\n",
       "      <th></th>\n",
       "      <th>String</th>\n",
       "      <th>Initial_Population</th>\n",
       "      <th>x</th>\n",
       "      <th>Fitness</th>\n",
       "      <th>Probability</th>\n",
       "      <th>Expected_Count</th>\n",
       "      <th>Actual_Count</th>\n",
       "    </tr>\n",
       "  </thead>\n",
       "  <tbody>\n",
       "    <tr>\n",
       "      <th>0</th>\n",
       "      <td>x1</td>\n",
       "      <td>01011</td>\n",
       "      <td>11</td>\n",
       "      <td>276</td>\n",
       "      <td>0.205970</td>\n",
       "      <td>0.823881</td>\n",
       "      <td>1.0</td>\n",
       "    </tr>\n",
       "    <tr>\n",
       "      <th>1</th>\n",
       "      <td>x2</td>\n",
       "      <td>01001</td>\n",
       "      <td>9</td>\n",
       "      <td>190</td>\n",
       "      <td>0.141791</td>\n",
       "      <td>0.567164</td>\n",
       "      <td>1.0</td>\n",
       "    </tr>\n",
       "    <tr>\n",
       "      <th>2</th>\n",
       "      <td>x3</td>\n",
       "      <td>01111</td>\n",
       "      <td>15</td>\n",
       "      <td>496</td>\n",
       "      <td>0.370149</td>\n",
       "      <td>1.480597</td>\n",
       "      <td>1.0</td>\n",
       "    </tr>\n",
       "    <tr>\n",
       "      <th>3</th>\n",
       "      <td>x4</td>\n",
       "      <td>01101</td>\n",
       "      <td>13</td>\n",
       "      <td>378</td>\n",
       "      <td>0.282090</td>\n",
       "      <td>1.128358</td>\n",
       "      <td>1.0</td>\n",
       "    </tr>\n",
       "  </tbody>\n",
       "</table>\n",
       "</div>"
      ],
      "text/plain": [
       "  String Initial_Population   x  Fitness  Probability  Expected_Count  \\\n",
       "0     x1              01011  11      276     0.205970        0.823881   \n",
       "1     x2              01001   9      190     0.141791        0.567164   \n",
       "2     x3              01111  15      496     0.370149        1.480597   \n",
       "3     x4              01101  13      378     0.282090        1.128358   \n",
       "\n",
       "   Actual_Count  \n",
       "0           1.0  \n",
       "1           1.0  \n",
       "2           1.0  \n",
       "3           1.0  "
      ]
     },
     "execution_count": 523,
     "metadata": {},
     "output_type": "execute_result"
    }
   ],
   "source": [
    "df2=pd.DataFrame()\n",
    "df2=iteration(off_x2,df2)\n",
    "df2"
   ]
  },
  {
   "cell_type": "code",
   "execution_count": null,
   "id": "8edd7483",
   "metadata": {},
   "outputs": [],
   "source": []
  },
  {
   "cell_type": "code",
   "execution_count": null,
   "id": "f7539135",
   "metadata": {},
   "outputs": [],
   "source": []
  },
  {
   "cell_type": "code",
   "execution_count": null,
   "id": "bf92ba75",
   "metadata": {},
   "outputs": [],
   "source": [
    "15"
   ]
  },
  {
   "cell_type": "code",
   "execution_count": 496,
   "id": "94dadc3b",
   "metadata": {},
   "outputs": [],
   "source": [
    "def iteration(x):\n",
    "    def fitness_fun(x):\n",
    "        fitness_func=(int(x[0])+int(x[1]))-(int(x[2])+int(x[3]))+(int(x[4])+int(x[5]))-(int(x[6])+int(x[7]))\n",
    "        return fitness_func\n",
    "    #encoding\n",
    "    string=[]\n",
    "    fitness=[]\n",
    "    for i in range(len(x)):\n",
    "        string.append('x{}'.format(i+1))\n",
    "        fitness.append(fitness_fun(x[i]))\n",
    "    total_val_fitness=sum(fitness)\n",
    "    val1=zip(string,x,fitness)\n",
    "    val=list(val1)\n",
    "    val=sorted(val,key=lambda x:x[2])[::-1]\n",
    "    return val\n"
   ]
  },
  {
   "cell_type": "code",
   "execution_count": 497,
   "id": "2fe390d2",
   "metadata": {},
   "outputs": [],
   "source": [
    "x=['65413532','87126601','23921285','41852094']"
   ]
  },
  {
   "cell_type": "code",
   "execution_count": 498,
   "id": "2d82ed39",
   "metadata": {},
   "outputs": [],
   "source": [
    "val1=iteration(x)"
   ]
  },
  {
   "cell_type": "code",
   "execution_count": 499,
   "id": "3aa0c9c3",
   "metadata": {},
   "outputs": [
    {
     "data": {
      "text/plain": [
       "[('x2', '87126601', 23),\n",
       " ('x1', '65413532', 9),\n",
       " ('x3', '23921285', -16),\n",
       " ('x4', '41852094', -19)]"
      ]
     },
     "execution_count": 499,
     "metadata": {},
     "output_type": "execute_result"
    }
   ],
   "source": [
    "val1"
   ]
  },
  {
   "cell_type": "code",
   "execution_count": 500,
   "id": "91127a84",
   "metadata": {},
   "outputs": [],
   "source": [
    "#cross-over with best fitted middle point\n",
    "best1=val1[0][1]\n",
    "best2=val1[1][1]"
   ]
  },
  {
   "cell_type": "code",
   "execution_count": 501,
   "id": "c0d4b9cb",
   "metadata": {},
   "outputs": [],
   "source": [
    "off_1=best1[:int(len(best1)/2)]+best2[int(len(best2)/2):]\n",
    "off_2=best2[:int(len(best2)/2)]+best1[int(len(best1)/2):]"
   ]
  },
  {
   "cell_type": "code",
   "execution_count": 502,
   "id": "0b1d2806",
   "metadata": {},
   "outputs": [],
   "source": [
    "best3=val1[2][1]"
   ]
  },
  {
   "cell_type": "code",
   "execution_count": 503,
   "id": "fdf14886",
   "metadata": {},
   "outputs": [],
   "source": [
    "#cross-over with 2nd and 3rdbest fitted from 2nd and 6th position\n",
    "off_3=best2[:2]+best3[2:6]+best2[6:]\n",
    "off_4=best3[:2]+best2[2:6]+best3[6:]"
   ]
  },
  {
   "cell_type": "code",
   "execution_count": 504,
   "id": "2aec745b",
   "metadata": {},
   "outputs": [],
   "source": [
    "off_5,off_6=crossover(best1,best3)"
   ]
  },
  {
   "cell_type": "code",
   "execution_count": 505,
   "id": "f2ca5ae6",
   "metadata": {},
   "outputs": [],
   "source": [
    "offspring=[off_1,off_2,off_3,off_4,off_5,off_6]"
   ]
  },
  {
   "cell_type": "code",
   "execution_count": 506,
   "id": "92fcd465",
   "metadata": {},
   "outputs": [],
   "source": [
    "new_gen=iteration(offspring)"
   ]
  },
  {
   "cell_type": "code",
   "execution_count": 508,
   "id": "b5c284f4",
   "metadata": {},
   "outputs": [
    {
     "data": {
      "text/plain": [
       "[('x2', '65416601', 17),\n",
       " ('x1', '87123532', 15),\n",
       " ('x5', '83126205', 11),\n",
       " ('x3', '65921232', -2),\n",
       " ('x6', '27921681', -4),\n",
       " ('x4', '23413585', -5)]"
      ]
     },
     "execution_count": 508,
     "metadata": {},
     "output_type": "execute_result"
    }
   ],
   "source": [
    "new_gen"
   ]
  },
  {
   "cell_type": "code",
   "execution_count": null,
   "id": "63de3416",
   "metadata": {},
   "outputs": [],
   "source": []
  },
  {
   "cell_type": "code",
   "execution_count": null,
   "id": "2e3ae665",
   "metadata": {},
   "outputs": [],
   "source": []
  },
  {
   "cell_type": "code",
   "execution_count": null,
   "id": "64c33994",
   "metadata": {},
   "outputs": [],
   "source": []
  },
  {
   "cell_type": "code",
   "execution_count": 861,
   "id": "68af4604",
   "metadata": {},
   "outputs": [],
   "source": [
    "import pandas as pd\n",
    "df=pd.DataFrame(columns=['a','b','c','d','e','f'])"
   ]
  },
  {
   "cell_type": "code",
   "execution_count": 862,
   "id": "2b6b28a9",
   "metadata": {},
   "outputs": [],
   "source": [
    "def tsp_d(df,iteration_df):\n",
    "    distance=[]\n",
    "    print(df)\n",
    "    for i in iteration_df['paths']:\n",
    "        add=0\n",
    "        for j in range(len(i)-1):\n",
    "            add+=df.loc[i[j]][i[j+1]]\n",
    "        distance.append(add)\n",
    "    iteration_df['distance']=distance\n",
    "    print(iteration_df)\n",
    "    return iteration_df"
   ]
  },
  {
   "cell_type": "code",
   "execution_count": 863,
   "id": "65387972",
   "metadata": {},
   "outputs": [],
   "source": [
    "def tsp(iteration_df):\n",
    "    total_fitness=sum(iteration_df['distance'])\n",
    "    iteration_df['relative_fitness']=total_fitness/iteration_df['distance']\n",
    "    total_relative_fitness=sum(iteration_df['relative_fitness'])\n",
    "    iteration_df['probability']=iteration_df['relative_fitness']/total_relative_fitness\n",
    "    cdf=[]\n",
    "    s=0\n",
    "    for i in iteration_df['probability']:\n",
    "        s+=i\n",
    "        cdf.append(s)\n",
    "    iteration_df['cdf']=cdf\n",
    "    "
   ]
  },
  {
   "cell_type": "code",
   "execution_count": 864,
   "id": "3e6ec04a",
   "metadata": {},
   "outputs": [],
   "source": [
    "#city table\n",
    "df['a']=[0,5,6,8,2,1]\n",
    "df['b']=[5,0,6,3,2,3]\n",
    "df['c']=[1,6,0,4,4,5]\n",
    "df['d']=[4,6,8,0,2,1]\n",
    "df['e']=[3,6,8,2,0,3]\n",
    "df['f']=[2,5,6,7,2,0]"
   ]
  },
  {
   "cell_type": "code",
   "execution_count": 865,
   "id": "e79ebc66",
   "metadata": {},
   "outputs": [],
   "source": [
    "df.index=['a','b','c','d','e','f']"
   ]
  },
  {
   "cell_type": "code",
   "execution_count": 866,
   "id": "e4ee85fe",
   "metadata": {},
   "outputs": [],
   "source": [
    "df=df.transpose()"
   ]
  },
  {
   "cell_type": "code",
   "execution_count": 867,
   "id": "e31560d3",
   "metadata": {},
   "outputs": [
    {
     "data": {
      "text/html": [
       "<div>\n",
       "<style scoped>\n",
       "    .dataframe tbody tr th:only-of-type {\n",
       "        vertical-align: middle;\n",
       "    }\n",
       "\n",
       "    .dataframe tbody tr th {\n",
       "        vertical-align: top;\n",
       "    }\n",
       "\n",
       "    .dataframe thead th {\n",
       "        text-align: right;\n",
       "    }\n",
       "</style>\n",
       "<table border=\"1\" class=\"dataframe\">\n",
       "  <thead>\n",
       "    <tr style=\"text-align: right;\">\n",
       "      <th></th>\n",
       "      <th>a</th>\n",
       "      <th>b</th>\n",
       "      <th>c</th>\n",
       "      <th>d</th>\n",
       "      <th>e</th>\n",
       "      <th>f</th>\n",
       "    </tr>\n",
       "  </thead>\n",
       "  <tbody>\n",
       "    <tr>\n",
       "      <th>a</th>\n",
       "      <td>0</td>\n",
       "      <td>5</td>\n",
       "      <td>6</td>\n",
       "      <td>8</td>\n",
       "      <td>2</td>\n",
       "      <td>1</td>\n",
       "    </tr>\n",
       "    <tr>\n",
       "      <th>b</th>\n",
       "      <td>5</td>\n",
       "      <td>0</td>\n",
       "      <td>6</td>\n",
       "      <td>3</td>\n",
       "      <td>2</td>\n",
       "      <td>3</td>\n",
       "    </tr>\n",
       "    <tr>\n",
       "      <th>c</th>\n",
       "      <td>1</td>\n",
       "      <td>6</td>\n",
       "      <td>0</td>\n",
       "      <td>4</td>\n",
       "      <td>4</td>\n",
       "      <td>5</td>\n",
       "    </tr>\n",
       "    <tr>\n",
       "      <th>d</th>\n",
       "      <td>4</td>\n",
       "      <td>6</td>\n",
       "      <td>8</td>\n",
       "      <td>0</td>\n",
       "      <td>2</td>\n",
       "      <td>1</td>\n",
       "    </tr>\n",
       "    <tr>\n",
       "      <th>e</th>\n",
       "      <td>3</td>\n",
       "      <td>6</td>\n",
       "      <td>8</td>\n",
       "      <td>2</td>\n",
       "      <td>0</td>\n",
       "      <td>3</td>\n",
       "    </tr>\n",
       "    <tr>\n",
       "      <th>f</th>\n",
       "      <td>2</td>\n",
       "      <td>5</td>\n",
       "      <td>6</td>\n",
       "      <td>7</td>\n",
       "      <td>2</td>\n",
       "      <td>0</td>\n",
       "    </tr>\n",
       "  </tbody>\n",
       "</table>\n",
       "</div>"
      ],
      "text/plain": [
       "   a  b  c  d  e  f\n",
       "a  0  5  6  8  2  1\n",
       "b  5  0  6  3  2  3\n",
       "c  1  6  0  4  4  5\n",
       "d  4  6  8  0  2  1\n",
       "e  3  6  8  2  0  3\n",
       "f  2  5  6  7  2  0"
      ]
     },
     "execution_count": 867,
     "metadata": {},
     "output_type": "execute_result"
    }
   ],
   "source": [
    "df"
   ]
  },
  {
   "cell_type": "code",
   "execution_count": 868,
   "id": "4c2ffa50",
   "metadata": {},
   "outputs": [],
   "source": [
    "#a->a\n",
    "import random as ran"
   ]
  },
  {
   "cell_type": "code",
   "execution_count": 869,
   "id": "e06f5b84",
   "metadata": {},
   "outputs": [],
   "source": [
    "paths=[]\n",
    "for i in range(4):\n",
    "    path=['a']\n",
    "    roots=['b','c','d','e','f']\n",
    "    for j in range(5):\n",
    "        v=ran.choices(roots)\n",
    "        roots.remove(v[0])\n",
    "        path.append(v[0])\n",
    "    path.append('a')\n",
    "    paths.append(path)"
   ]
  },
  {
   "cell_type": "code",
   "execution_count": 870,
   "id": "f19a87f7",
   "metadata": {},
   "outputs": [
    {
     "data": {
      "text/plain": [
       "[['a', 'f', 'c', 'b', 'e', 'd', 'a'],\n",
       " ['a', 'f', 'b', 'e', 'c', 'd', 'a'],\n",
       " ['a', 'c', 'e', 'd', 'b', 'f', 'a'],\n",
       " ['a', 'b', 'c', 'e', 'd', 'f', 'a']]"
      ]
     },
     "execution_count": 870,
     "metadata": {},
     "output_type": "execute_result"
    }
   ],
   "source": [
    "paths"
   ]
  },
  {
   "cell_type": "code",
   "execution_count": 871,
   "id": "0b21101c",
   "metadata": {},
   "outputs": [
    {
     "data": {
      "text/html": [
       "<div>\n",
       "<style scoped>\n",
       "    .dataframe tbody tr th:only-of-type {\n",
       "        vertical-align: middle;\n",
       "    }\n",
       "\n",
       "    .dataframe tbody tr th {\n",
       "        vertical-align: top;\n",
       "    }\n",
       "\n",
       "    .dataframe thead th {\n",
       "        text-align: right;\n",
       "    }\n",
       "</style>\n",
       "<table border=\"1\" class=\"dataframe\">\n",
       "  <thead>\n",
       "    <tr style=\"text-align: right;\">\n",
       "      <th></th>\n",
       "      <th>a</th>\n",
       "      <th>b</th>\n",
       "      <th>c</th>\n",
       "      <th>d</th>\n",
       "      <th>e</th>\n",
       "      <th>f</th>\n",
       "    </tr>\n",
       "  </thead>\n",
       "  <tbody>\n",
       "    <tr>\n",
       "      <th>a</th>\n",
       "      <td>0</td>\n",
       "      <td>5</td>\n",
       "      <td>6</td>\n",
       "      <td>8</td>\n",
       "      <td>2</td>\n",
       "      <td>1</td>\n",
       "    </tr>\n",
       "    <tr>\n",
       "      <th>b</th>\n",
       "      <td>5</td>\n",
       "      <td>0</td>\n",
       "      <td>6</td>\n",
       "      <td>3</td>\n",
       "      <td>2</td>\n",
       "      <td>3</td>\n",
       "    </tr>\n",
       "    <tr>\n",
       "      <th>c</th>\n",
       "      <td>1</td>\n",
       "      <td>6</td>\n",
       "      <td>0</td>\n",
       "      <td>4</td>\n",
       "      <td>4</td>\n",
       "      <td>5</td>\n",
       "    </tr>\n",
       "    <tr>\n",
       "      <th>d</th>\n",
       "      <td>4</td>\n",
       "      <td>6</td>\n",
       "      <td>8</td>\n",
       "      <td>0</td>\n",
       "      <td>2</td>\n",
       "      <td>1</td>\n",
       "    </tr>\n",
       "    <tr>\n",
       "      <th>e</th>\n",
       "      <td>3</td>\n",
       "      <td>6</td>\n",
       "      <td>8</td>\n",
       "      <td>2</td>\n",
       "      <td>0</td>\n",
       "      <td>3</td>\n",
       "    </tr>\n",
       "    <tr>\n",
       "      <th>f</th>\n",
       "      <td>2</td>\n",
       "      <td>5</td>\n",
       "      <td>6</td>\n",
       "      <td>7</td>\n",
       "      <td>2</td>\n",
       "      <td>0</td>\n",
       "    </tr>\n",
       "  </tbody>\n",
       "</table>\n",
       "</div>"
      ],
      "text/plain": [
       "   a  b  c  d  e  f\n",
       "a  0  5  6  8  2  1\n",
       "b  5  0  6  3  2  3\n",
       "c  1  6  0  4  4  5\n",
       "d  4  6  8  0  2  1\n",
       "e  3  6  8  2  0  3\n",
       "f  2  5  6  7  2  0"
      ]
     },
     "execution_count": 871,
     "metadata": {},
     "output_type": "execute_result"
    }
   ],
   "source": [
    "df"
   ]
  },
  {
   "cell_type": "code",
   "execution_count": 872,
   "id": "2bc1d515",
   "metadata": {},
   "outputs": [],
   "source": [
    "iteration_df=pd.DataFrame()"
   ]
  },
  {
   "cell_type": "code",
   "execution_count": 873,
   "id": "dba54d63",
   "metadata": {},
   "outputs": [],
   "source": [
    "iteration_df['paths']=paths"
   ]
  },
  {
   "cell_type": "code",
   "execution_count": 874,
   "id": "0032a703",
   "metadata": {},
   "outputs": [
    {
     "data": {
      "text/html": [
       "<div>\n",
       "<style scoped>\n",
       "    .dataframe tbody tr th:only-of-type {\n",
       "        vertical-align: middle;\n",
       "    }\n",
       "\n",
       "    .dataframe tbody tr th {\n",
       "        vertical-align: top;\n",
       "    }\n",
       "\n",
       "    .dataframe thead th {\n",
       "        text-align: right;\n",
       "    }\n",
       "</style>\n",
       "<table border=\"1\" class=\"dataframe\">\n",
       "  <thead>\n",
       "    <tr style=\"text-align: right;\">\n",
       "      <th></th>\n",
       "      <th>paths</th>\n",
       "    </tr>\n",
       "  </thead>\n",
       "  <tbody>\n",
       "    <tr>\n",
       "      <th>0</th>\n",
       "      <td>[a, f, c, b, e, d, a]</td>\n",
       "    </tr>\n",
       "    <tr>\n",
       "      <th>1</th>\n",
       "      <td>[a, f, b, e, c, d, a]</td>\n",
       "    </tr>\n",
       "    <tr>\n",
       "      <th>2</th>\n",
       "      <td>[a, c, e, d, b, f, a]</td>\n",
       "    </tr>\n",
       "    <tr>\n",
       "      <th>3</th>\n",
       "      <td>[a, b, c, e, d, f, a]</td>\n",
       "    </tr>\n",
       "  </tbody>\n",
       "</table>\n",
       "</div>"
      ],
      "text/plain": [
       "                   paths\n",
       "0  [a, f, c, b, e, d, a]\n",
       "1  [a, f, b, e, c, d, a]\n",
       "2  [a, c, e, d, b, f, a]\n",
       "3  [a, b, c, e, d, f, a]"
      ]
     },
     "execution_count": 874,
     "metadata": {},
     "output_type": "execute_result"
    }
   ],
   "source": [
    "iteration_df"
   ]
  },
  {
   "cell_type": "code",
   "execution_count": 875,
   "id": "2487d2c4",
   "metadata": {},
   "outputs": [
    {
     "name": "stdout",
     "output_type": "stream",
     "text": [
      "   a  b  c  d  e  f\n",
      "a  0  5  6  8  2  1\n",
      "b  5  0  6  3  2  3\n",
      "c  1  6  0  4  4  5\n",
      "d  4  6  8  0  2  1\n",
      "e  3  6  8  2  0  3\n",
      "f  2  5  6  7  2  0\n",
      "                   paths  distance\n",
      "0  [a, f, c, b, e, d, a]        21\n",
      "1  [a, f, b, e, c, d, a]        24\n",
      "2  [a, c, e, d, b, f, a]        23\n",
      "3  [a, b, c, e, d, f, a]        20\n"
     ]
    }
   ],
   "source": [
    "iteration_df=tsp_d(df,iteration_df)"
   ]
  },
  {
   "cell_type": "code",
   "execution_count": 876,
   "id": "21722f5a",
   "metadata": {},
   "outputs": [
    {
     "data": {
      "text/html": [
       "<div>\n",
       "<style scoped>\n",
       "    .dataframe tbody tr th:only-of-type {\n",
       "        vertical-align: middle;\n",
       "    }\n",
       "\n",
       "    .dataframe tbody tr th {\n",
       "        vertical-align: top;\n",
       "    }\n",
       "\n",
       "    .dataframe thead th {\n",
       "        text-align: right;\n",
       "    }\n",
       "</style>\n",
       "<table border=\"1\" class=\"dataframe\">\n",
       "  <thead>\n",
       "    <tr style=\"text-align: right;\">\n",
       "      <th></th>\n",
       "      <th>paths</th>\n",
       "      <th>distance</th>\n",
       "    </tr>\n",
       "  </thead>\n",
       "  <tbody>\n",
       "    <tr>\n",
       "      <th>0</th>\n",
       "      <td>[a, f, c, b, e, d, a]</td>\n",
       "      <td>21</td>\n",
       "    </tr>\n",
       "    <tr>\n",
       "      <th>1</th>\n",
       "      <td>[a, f, b, e, c, d, a]</td>\n",
       "      <td>24</td>\n",
       "    </tr>\n",
       "    <tr>\n",
       "      <th>2</th>\n",
       "      <td>[a, c, e, d, b, f, a]</td>\n",
       "      <td>23</td>\n",
       "    </tr>\n",
       "    <tr>\n",
       "      <th>3</th>\n",
       "      <td>[a, b, c, e, d, f, a]</td>\n",
       "      <td>20</td>\n",
       "    </tr>\n",
       "  </tbody>\n",
       "</table>\n",
       "</div>"
      ],
      "text/plain": [
       "                   paths  distance\n",
       "0  [a, f, c, b, e, d, a]        21\n",
       "1  [a, f, b, e, c, d, a]        24\n",
       "2  [a, c, e, d, b, f, a]        23\n",
       "3  [a, b, c, e, d, f, a]        20"
      ]
     },
     "execution_count": 876,
     "metadata": {},
     "output_type": "execute_result"
    }
   ],
   "source": [
    "iteration_df"
   ]
  },
  {
   "cell_type": "code",
   "execution_count": 877,
   "id": "600446a1",
   "metadata": {},
   "outputs": [],
   "source": [
    "df1=iteration_df.copy()"
   ]
  },
  {
   "cell_type": "code",
   "execution_count": 878,
   "id": "582328ab",
   "metadata": {},
   "outputs": [],
   "source": [
    "tsp(iteration_df)"
   ]
  },
  {
   "cell_type": "code",
   "execution_count": 879,
   "id": "f32fbadf",
   "metadata": {},
   "outputs": [
    {
     "data": {
      "text/html": [
       "<div>\n",
       "<style scoped>\n",
       "    .dataframe tbody tr th:only-of-type {\n",
       "        vertical-align: middle;\n",
       "    }\n",
       "\n",
       "    .dataframe tbody tr th {\n",
       "        vertical-align: top;\n",
       "    }\n",
       "\n",
       "    .dataframe thead th {\n",
       "        text-align: right;\n",
       "    }\n",
       "</style>\n",
       "<table border=\"1\" class=\"dataframe\">\n",
       "  <thead>\n",
       "    <tr style=\"text-align: right;\">\n",
       "      <th></th>\n",
       "      <th>paths</th>\n",
       "      <th>distance</th>\n",
       "      <th>relative_fitness</th>\n",
       "      <th>probability</th>\n",
       "      <th>cdf</th>\n",
       "    </tr>\n",
       "  </thead>\n",
       "  <tbody>\n",
       "    <tr>\n",
       "      <th>0</th>\n",
       "      <td>[a, f, c, b, e, d, a]</td>\n",
       "      <td>21</td>\n",
       "      <td>4.190476</td>\n",
       "      <td>0.260549</td>\n",
       "      <td>0.260549</td>\n",
       "    </tr>\n",
       "    <tr>\n",
       "      <th>1</th>\n",
       "      <td>[a, f, b, e, c, d, a]</td>\n",
       "      <td>24</td>\n",
       "      <td>3.666667</td>\n",
       "      <td>0.227981</td>\n",
       "      <td>0.488530</td>\n",
       "    </tr>\n",
       "    <tr>\n",
       "      <th>2</th>\n",
       "      <td>[a, c, e, d, b, f, a]</td>\n",
       "      <td>23</td>\n",
       "      <td>3.826087</td>\n",
       "      <td>0.237893</td>\n",
       "      <td>0.726423</td>\n",
       "    </tr>\n",
       "    <tr>\n",
       "      <th>3</th>\n",
       "      <td>[a, b, c, e, d, f, a]</td>\n",
       "      <td>20</td>\n",
       "      <td>4.400000</td>\n",
       "      <td>0.273577</td>\n",
       "      <td>1.000000</td>\n",
       "    </tr>\n",
       "  </tbody>\n",
       "</table>\n",
       "</div>"
      ],
      "text/plain": [
       "                   paths  distance  relative_fitness  probability       cdf\n",
       "0  [a, f, c, b, e, d, a]        21          4.190476     0.260549  0.260549\n",
       "1  [a, f, b, e, c, d, a]        24          3.666667     0.227981  0.488530\n",
       "2  [a, c, e, d, b, f, a]        23          3.826087     0.237893  0.726423\n",
       "3  [a, b, c, e, d, f, a]        20          4.400000     0.273577  1.000000"
      ]
     },
     "execution_count": 879,
     "metadata": {},
     "output_type": "execute_result"
    }
   ],
   "source": [
    "iteration_df"
   ]
  },
  {
   "cell_type": "code",
   "execution_count": null,
   "id": "872481bd",
   "metadata": {},
   "outputs": [],
   "source": []
  },
  {
   "cell_type": "code",
   "execution_count": null,
   "id": "1164be5e",
   "metadata": {},
   "outputs": [],
   "source": []
  },
  {
   "cell_type": "code",
   "execution_count": null,
   "id": "6fb90f4b",
   "metadata": {},
   "outputs": [],
   "source": []
  },
  {
   "cell_type": "code",
   "execution_count": 880,
   "id": "66bcbfd5",
   "metadata": {},
   "outputs": [],
   "source": [
    "#parents\n",
    "parents=[]\n",
    "j=-1\n",
    "while len(parents)<2:\n",
    "    random_number=ran.random()\n",
    "    for row,i in enumerate(iteration_df['cdf']):\n",
    "        if i>random_number:\n",
    "            if j!=row:\n",
    "                parents.append(iteration_df.iloc[row].paths)\n",
    "            if j==-1:\n",
    "                j=row\n",
    "            break\n",
    "            \n",
    "            "
   ]
  },
  {
   "cell_type": "code",
   "execution_count": 881,
   "id": "aaa24df2",
   "metadata": {},
   "outputs": [
    {
     "data": {
      "text/plain": [
       "[['a', 'f', 'b', 'e', 'c', 'd', 'a'], ['a', 'b', 'c', 'e', 'd', 'f', 'a']]"
      ]
     },
     "execution_count": 881,
     "metadata": {},
     "output_type": "execute_result"
    }
   ],
   "source": [
    "parents"
   ]
  },
  {
   "cell_type": "code",
   "execution_count": 882,
   "id": "a68b1eae",
   "metadata": {},
   "outputs": [],
   "source": [
    "def unique(x,y):\n",
    "    if x[:2]!=y[:2]:\n",
    "        t=y[0]\n",
    "        y[0]=x[0]\n",
    "        for i in range(1,len(y)):\n",
    "            if y[i]==y[0]:\n",
    "                y[i]=t\n",
    "        y[1]=x[1]\n",
    "        for i in range(2,len(y)):\n",
    "            if y[i]==y[1]:\n",
    "                y[i]=t\n",
    "    x=['a']+x+['a']\n",
    "    y=['a']+y+['a']\n",
    "    return [x,y]"
   ]
  },
  {
   "cell_type": "code",
   "execution_count": 883,
   "id": "ea33476c",
   "metadata": {},
   "outputs": [],
   "source": [
    "parent_ready=unique(parents[0][1:-1],parents[1][1:-1])"
   ]
  },
  {
   "cell_type": "code",
   "execution_count": 884,
   "id": "0add9d71",
   "metadata": {},
   "outputs": [
    {
     "data": {
      "text/plain": [
       "[['a', 'f', 'b', 'e', 'c', 'd', 'a'], ['a', 'f', 'b', 'e', 'd', 'b', 'a']]"
      ]
     },
     "execution_count": 884,
     "metadata": {},
     "output_type": "execute_result"
    }
   ],
   "source": [
    "parent_ready"
   ]
  },
  {
   "cell_type": "code",
   "execution_count": 885,
   "id": "70e7e0cc",
   "metadata": {},
   "outputs": [
    {
     "data": {
      "text/plain": [
       "[['a', 'f', 'b', 'e', 'c', 'd', 'a'], ['a', 'b', 'c', 'e', 'd', 'f', 'a']]"
      ]
     },
     "execution_count": 885,
     "metadata": {},
     "output_type": "execute_result"
    }
   ],
   "source": [
    "parents"
   ]
  },
  {
   "cell_type": "code",
   "execution_count": 886,
   "id": "81319540",
   "metadata": {},
   "outputs": [],
   "source": [
    "#swap\n",
    "off1=[]\n",
    "off1.append(parent_ready[0][:2]+parent_ready[1][2:])\n",
    "off1.append(parent_ready[1][:2]+parent_ready[0][2:])"
   ]
  },
  {
   "cell_type": "code",
   "execution_count": 887,
   "id": "dfb68a94",
   "metadata": {},
   "outputs": [
    {
     "data": {
      "text/plain": [
       "[['a', 'f', 'b', 'e', 'd', 'b', 'a'], ['a', 'f', 'b', 'e', 'c', 'd', 'a']]"
      ]
     },
     "execution_count": 887,
     "metadata": {},
     "output_type": "execute_result"
    }
   ],
   "source": [
    "off1"
   ]
  },
  {
   "cell_type": "code",
   "execution_count": 888,
   "id": "8a7fef01",
   "metadata": {},
   "outputs": [],
   "source": [
    "off_distance=[]\n",
    "for i in off1:\n",
    "    add=0\n",
    "    for j in range(len(i)-1):\n",
    "        add+=df.loc[i[j]][i[j+1]]\n",
    "    off_distance.append(add)"
   ]
  },
  {
   "cell_type": "code",
   "execution_count": 889,
   "id": "c4967b53",
   "metadata": {},
   "outputs": [
    {
     "data": {
      "text/plain": [
       "[21, 24]"
      ]
     },
     "execution_count": 889,
     "metadata": {},
     "output_type": "execute_result"
    }
   ],
   "source": [
    "off_distance"
   ]
  },
  {
   "cell_type": "code",
   "execution_count": 1,
   "id": "257d01f7",
   "metadata": {},
   "outputs": [
    {
     "ename": "NameError",
     "evalue": "name 'off_distance' is not defined",
     "output_type": "error",
     "traceback": [
      "\u001b[0;31m---------------------------------------------------------------------------\u001b[0m",
      "\u001b[0;31mNameError\u001b[0m                                 Traceback (most recent call last)",
      "Cell \u001b[0;32mIn[1], line 1\u001b[0m\n\u001b[0;32m----> 1\u001b[0m \u001b[38;5;28;01mfor\u001b[39;00m d \u001b[38;5;129;01min\u001b[39;00m \u001b[38;5;28mrange\u001b[39m(\u001b[38;5;28mlen\u001b[39m(off_distance)):\n\u001b[1;32m      2\u001b[0m     \u001b[38;5;28;01mfor\u001b[39;00m row,i \u001b[38;5;129;01min\u001b[39;00m \u001b[38;5;28menumerate\u001b[39m(iteration_df[\u001b[38;5;124m'\u001b[39m\u001b[38;5;124mdistance\u001b[39m\u001b[38;5;124m'\u001b[39m]):\n\u001b[1;32m      3\u001b[0m         \u001b[38;5;28;01mif\u001b[39;00m off_distance[d]\u001b[38;5;241m<\u001b[39mi:\n",
      "\u001b[0;31mNameError\u001b[0m: name 'off_distance' is not defined"
     ]
    }
   ],
   "source": [
    "for d in range(len(off_distance)):\n",
    "    for row,i in enumerate(iteration_df['distance']):\n",
    "        if off_distance[d]<i:\n",
    "            df1.iloc[row]=[off1[d],off_distance[d]]\n",
    "            break\n",
    "            \n",
    "    "
   ]
  },
  {
   "cell_type": "code",
   "execution_count": 891,
   "id": "d4d4f4fa",
   "metadata": {},
   "outputs": [
    {
     "data": {
      "text/html": [
       "<div>\n",
       "<style scoped>\n",
       "    .dataframe tbody tr th:only-of-type {\n",
       "        vertical-align: middle;\n",
       "    }\n",
       "\n",
       "    .dataframe tbody tr th {\n",
       "        vertical-align: top;\n",
       "    }\n",
       "\n",
       "    .dataframe thead th {\n",
       "        text-align: right;\n",
       "    }\n",
       "</style>\n",
       "<table border=\"1\" class=\"dataframe\">\n",
       "  <thead>\n",
       "    <tr style=\"text-align: right;\">\n",
       "      <th></th>\n",
       "      <th>paths</th>\n",
       "      <th>distance</th>\n",
       "      <th>relative_fitness</th>\n",
       "      <th>probability</th>\n",
       "      <th>cdf</th>\n",
       "    </tr>\n",
       "  </thead>\n",
       "  <tbody>\n",
       "    <tr>\n",
       "      <th>0</th>\n",
       "      <td>[a, f, c, b, e, d, a]</td>\n",
       "      <td>21</td>\n",
       "      <td>4.190476</td>\n",
       "      <td>0.260549</td>\n",
       "      <td>0.260549</td>\n",
       "    </tr>\n",
       "    <tr>\n",
       "      <th>1</th>\n",
       "      <td>[a, f, b, e, c, d, a]</td>\n",
       "      <td>24</td>\n",
       "      <td>3.666667</td>\n",
       "      <td>0.227981</td>\n",
       "      <td>0.488530</td>\n",
       "    </tr>\n",
       "    <tr>\n",
       "      <th>2</th>\n",
       "      <td>[a, c, e, d, b, f, a]</td>\n",
       "      <td>23</td>\n",
       "      <td>3.826087</td>\n",
       "      <td>0.237893</td>\n",
       "      <td>0.726423</td>\n",
       "    </tr>\n",
       "    <tr>\n",
       "      <th>3</th>\n",
       "      <td>[a, b, c, e, d, f, a]</td>\n",
       "      <td>20</td>\n",
       "      <td>4.400000</td>\n",
       "      <td>0.273577</td>\n",
       "      <td>1.000000</td>\n",
       "    </tr>\n",
       "  </tbody>\n",
       "</table>\n",
       "</div>"
      ],
      "text/plain": [
       "                   paths  distance  relative_fitness  probability       cdf\n",
       "0  [a, f, c, b, e, d, a]        21          4.190476     0.260549  0.260549\n",
       "1  [a, f, b, e, c, d, a]        24          3.666667     0.227981  0.488530\n",
       "2  [a, c, e, d, b, f, a]        23          3.826087     0.237893  0.726423\n",
       "3  [a, b, c, e, d, f, a]        20          4.400000     0.273577  1.000000"
      ]
     },
     "execution_count": 891,
     "metadata": {},
     "output_type": "execute_result"
    }
   ],
   "source": [
    "iteration_df"
   ]
  },
  {
   "cell_type": "code",
   "execution_count": 892,
   "id": "5d5dc2c9",
   "metadata": {},
   "outputs": [
    {
     "data": {
      "text/html": [
       "<div>\n",
       "<style scoped>\n",
       "    .dataframe tbody tr th:only-of-type {\n",
       "        vertical-align: middle;\n",
       "    }\n",
       "\n",
       "    .dataframe tbody tr th {\n",
       "        vertical-align: top;\n",
       "    }\n",
       "\n",
       "    .dataframe thead th {\n",
       "        text-align: right;\n",
       "    }\n",
       "</style>\n",
       "<table border=\"1\" class=\"dataframe\">\n",
       "  <thead>\n",
       "    <tr style=\"text-align: right;\">\n",
       "      <th></th>\n",
       "      <th>paths</th>\n",
       "      <th>distance</th>\n",
       "    </tr>\n",
       "  </thead>\n",
       "  <tbody>\n",
       "    <tr>\n",
       "      <th>0</th>\n",
       "      <td>[a, f, c, b, e, d, a]</td>\n",
       "      <td>21</td>\n",
       "    </tr>\n",
       "    <tr>\n",
       "      <th>1</th>\n",
       "      <td>[a, f, b, e, d, b, a]</td>\n",
       "      <td>21</td>\n",
       "    </tr>\n",
       "    <tr>\n",
       "      <th>2</th>\n",
       "      <td>[a, c, e, d, b, f, a]</td>\n",
       "      <td>23</td>\n",
       "    </tr>\n",
       "    <tr>\n",
       "      <th>3</th>\n",
       "      <td>[a, b, c, e, d, f, a]</td>\n",
       "      <td>20</td>\n",
       "    </tr>\n",
       "  </tbody>\n",
       "</table>\n",
       "</div>"
      ],
      "text/plain": [
       "                   paths  distance\n",
       "0  [a, f, c, b, e, d, a]        21\n",
       "1  [a, f, b, e, d, b, a]        21\n",
       "2  [a, c, e, d, b, f, a]        23\n",
       "3  [a, b, c, e, d, f, a]        20"
      ]
     },
     "execution_count": 892,
     "metadata": {},
     "output_type": "execute_result"
    }
   ],
   "source": [
    "df1"
   ]
  },
  {
   "cell_type": "code",
   "execution_count": 893,
   "id": "224a0920",
   "metadata": {},
   "outputs": [],
   "source": [
    "iteration_df=df1.copy()"
   ]
  },
  {
   "cell_type": "code",
   "execution_count": 894,
   "id": "b2073931",
   "metadata": {},
   "outputs": [],
   "source": [
    "tsp(iteration_df)"
   ]
  },
  {
   "cell_type": "code",
   "execution_count": 895,
   "id": "63512b0f",
   "metadata": {},
   "outputs": [
    {
     "data": {
      "text/html": [
       "<div>\n",
       "<style scoped>\n",
       "    .dataframe tbody tr th:only-of-type {\n",
       "        vertical-align: middle;\n",
       "    }\n",
       "\n",
       "    .dataframe tbody tr th {\n",
       "        vertical-align: top;\n",
       "    }\n",
       "\n",
       "    .dataframe thead th {\n",
       "        text-align: right;\n",
       "    }\n",
       "</style>\n",
       "<table border=\"1\" class=\"dataframe\">\n",
       "  <thead>\n",
       "    <tr style=\"text-align: right;\">\n",
       "      <th></th>\n",
       "      <th>paths</th>\n",
       "      <th>distance</th>\n",
       "      <th>relative_fitness</th>\n",
       "      <th>probability</th>\n",
       "      <th>cdf</th>\n",
       "    </tr>\n",
       "  </thead>\n",
       "  <tbody>\n",
       "    <tr>\n",
       "      <th>0</th>\n",
       "      <td>[a, f, c, b, e, d, a]</td>\n",
       "      <td>21</td>\n",
       "      <td>4.047619</td>\n",
       "      <td>0.252331</td>\n",
       "      <td>0.252331</td>\n",
       "    </tr>\n",
       "    <tr>\n",
       "      <th>1</th>\n",
       "      <td>[a, f, b, e, d, b, a]</td>\n",
       "      <td>21</td>\n",
       "      <td>4.047619</td>\n",
       "      <td>0.252331</td>\n",
       "      <td>0.504663</td>\n",
       "    </tr>\n",
       "    <tr>\n",
       "      <th>2</th>\n",
       "      <td>[a, c, e, d, b, f, a]</td>\n",
       "      <td>23</td>\n",
       "      <td>3.695652</td>\n",
       "      <td>0.230389</td>\n",
       "      <td>0.735052</td>\n",
       "    </tr>\n",
       "    <tr>\n",
       "      <th>3</th>\n",
       "      <td>[a, b, c, e, d, f, a]</td>\n",
       "      <td>20</td>\n",
       "      <td>4.250000</td>\n",
       "      <td>0.264948</td>\n",
       "      <td>1.000000</td>\n",
       "    </tr>\n",
       "  </tbody>\n",
       "</table>\n",
       "</div>"
      ],
      "text/plain": [
       "                   paths  distance  relative_fitness  probability       cdf\n",
       "0  [a, f, c, b, e, d, a]        21          4.047619     0.252331  0.252331\n",
       "1  [a, f, b, e, d, b, a]        21          4.047619     0.252331  0.504663\n",
       "2  [a, c, e, d, b, f, a]        23          3.695652     0.230389  0.735052\n",
       "3  [a, b, c, e, d, f, a]        20          4.250000     0.264948  1.000000"
      ]
     },
     "execution_count": 895,
     "metadata": {},
     "output_type": "execute_result"
    }
   ],
   "source": [
    "iteration_df"
   ]
  },
  {
   "cell_type": "code",
   "execution_count": null,
   "id": "a3d54e58",
   "metadata": {},
   "outputs": [],
   "source": []
  },
  {
   "cell_type": "code",
   "execution_count": null,
   "id": "d666d705",
   "metadata": {},
   "outputs": [],
   "source": []
  },
  {
   "cell_type": "code",
   "execution_count": null,
   "id": "2af39d2d",
   "metadata": {},
   "outputs": [],
   "source": []
  },
  {
   "cell_type": "code",
   "execution_count": 897,
   "id": "5d88067a",
   "metadata": {},
   "outputs": [],
   "source": [
    "import random as ran"
   ]
  },
  {
   "cell_type": "markdown",
   "id": "b259c516",
   "metadata": {},
   "source": [
    "13"
   ]
  },
  {
   "cell_type": "code",
   "execution_count": null,
   "id": "852776ad",
   "metadata": {},
   "outputs": [],
   "source": [
    "3 ta plane  \n",
    "5 ta crew a,b,c,d,e\n",
    "a b c  000\n",
    "c d e  100\n",
    "a d e  011\n",
    "a b c  100\n",
    "d b c  011\n",
    "d a e  100\n",
    "b a e  011\n",
    "b d c  100"
   ]
  },
  {
   "cell_type": "code",
   "execution_count": 896,
   "id": "29cb1009",
   "metadata": {},
   "outputs": [],
   "source": [
    "a b c  1 1 1 0 0  3\n",
    "c d e  0 0 2 1 1  4\n",
    "a d e  1 0 0 2 2  5\n",
    "a b c  2 1 1 0 0  4\n",
    "d b c  0 0 2 1 1  4\n",
    "d a e  1 0 0 2 2  5\n",
    "b a e  2 1 1 0 0  4\n",
    "b d c  0 0 2 1 1  4"
   ]
  },
  {
   "cell_type": "code",
   "execution_count": 2210,
   "id": "22373118",
   "metadata": {},
   "outputs": [],
   "source": [
    "def fitness(crew,work_days_count):\n",
    "    for i in crew:\n",
    "        work_days_count[i]+=1\n",
    "    penalty = sum(max(0, work_days_count[crew] - MAX_WORK_DAYS) for crew in work_days_count)\n",
    "    return 1 / (1 + penalty)"
   ]
  },
  {
   "cell_type": "code",
   "execution_count": 2211,
   "id": "b34366c2",
   "metadata": {},
   "outputs": [],
   "source": [
    "\n",
    "def crossover(parent1, parent2):\n",
    "    crossover_point = random.randint(1, NUM_DAYS - 1)\n",
    "    child = parent1[:crossover_point] + parent2[crossover_point:]\n",
    "    if len(set(child))!=len(child):\n",
    "        for i in set(child):\n",
    "            dup=0\n",
    "            for j in child:\n",
    "                if i==j:\n",
    "                    dup+=1\n",
    "                    if dup==2:\n",
    "                        x=list(work_count.values())\n",
    "                        found=False\n",
    "                        while not found:\n",
    "                            for k in range(5):\n",
    "                                if list(work_count.keys())[k] not in child and work_count[list(work_count.keys())[k]]<=1:\n",
    "                                    child[child.index(j)]= list(work_count.keys())[k]\n",
    "                            found=True\n",
    "\n",
    "    return child"
   ]
  },
  {
   "cell_type": "code",
   "execution_count": 2222,
   "id": "c00e7789",
   "metadata": {},
   "outputs": [],
   "source": [
    "def crew_fun(crew,work_count,generation):\n",
    "    for _ in range(generation):\n",
    "        fit_score=[]\n",
    "        for i in combi:\n",
    "            work_days_count=work_count.copy()\n",
    "            fit_score.append(fitness(i,work_days_count))\n",
    "        parents = [combi[i] for i in range(len(fit_score)) if ran.random() < fit_score[i]]\n",
    "\n",
    "        try:\n",
    "            parent1, parent2 = random.sample(parents, 2)\n",
    "            child = crossover(parent1, parent2)\n",
    "            min1=min(fit_score)\n",
    "            combi.remove(combi[fit_score.index(min1)])\n",
    "            combi.insert(fit_score.index(min1),child)\n",
    "            fit_score.remove(min1)\n",
    "\n",
    "        except:\n",
    "            pass\n",
    "        fit_score=[]\n",
    "        for i in combi:\n",
    "            work_days_count=work_count.copy()\n",
    "            fit_score.append(fitness(i,work_days_count))\n",
    "        best_solution = combi[fit_score.index(max(fit_score))]\n",
    "        combi.remove(best_solution)\n",
    "        new_combi=[]\n",
    "        complete=[]\n",
    "        al=['a','b','c','d','e']\n",
    "        for i in best_solution:\n",
    "            work_count[i]+=1\n",
    "        for i in al:\n",
    "            if i not in best_solution:\n",
    "                work_count[i]=0\n",
    "        for i in work_count:\n",
    "            if work_count[i]>=2:\n",
    "                complete.append(i)\n",
    "        for i in al:\n",
    "            if i not in complete:\n",
    "                new_combi.append(i)\n",
    "        if len(new_combi)>3:\n",
    "            new_combi=new_combi[:3]\n",
    "        combi.append(new_combi)\n",
    "    return best_solution"
   ]
  },
  {
   "cell_type": "code",
   "execution_count": 2227,
   "id": "b85c8dc3",
   "metadata": {},
   "outputs": [],
   "source": [
    "global work_count\n",
    "work_count={'a':0,'b':0,'c':0,'d':0,'e':0}\n",
    "POPULATION_SIZE = 8"
   ]
  },
  {
   "cell_type": "code",
   "execution_count": 2234,
   "id": "306d8439",
   "metadata": {},
   "outputs": [],
   "source": [
    "combi=[]\n",
    "for _ in range(8):\n",
    "    crew=['a','b','c','d','e']\n",
    "    c=[]\n",
    "    for _ in range(3):\n",
    "        s=ran.choice(crew)\n",
    "        crew.remove(s[0])\n",
    "        c.append(s[0])\n",
    "    combi.append(c)\n",
    "    "
   ]
  },
  {
   "cell_type": "code",
   "execution_count": 2235,
   "id": "7f17cf12",
   "metadata": {},
   "outputs": [
    {
     "name": "stdout",
     "output_type": "stream",
     "text": [
      "['a', 'b', 'e']\n"
     ]
    }
   ],
   "source": [
    "generation=20\n",
    "print(crew_fun(combi,work_count,generation))"
   ]
  },
  {
   "cell_type": "code",
   "execution_count": 2236,
   "id": "5bfa0f5c",
   "metadata": {},
   "outputs": [
    {
     "data": {
      "text/plain": [
       "{'a': 2, 'b': 1, 'c': 0, 'd': 0, 'e': 1}"
      ]
     },
     "execution_count": 2236,
     "metadata": {},
     "output_type": "execute_result"
    }
   ],
   "source": [
    "work_count"
   ]
  },
  {
   "cell_type": "code",
   "execution_count": null,
   "id": "ddfd74fb",
   "metadata": {},
   "outputs": [],
   "source": []
  }
 ],
 "metadata": {
  "kernelspec": {
   "display_name": "Python 3 (ipykernel)",
   "language": "python",
   "name": "python3"
  },
  "language_info": {
   "codemirror_mode": {
    "name": "ipython",
    "version": 3
   },
   "file_extension": ".py",
   "mimetype": "text/x-python",
   "name": "python",
   "nbconvert_exporter": "python",
   "pygments_lexer": "ipython3",
   "version": "3.11.5"
  }
 },
 "nbformat": 4,
 "nbformat_minor": 5
}
